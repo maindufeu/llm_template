{
 "cells": [
  {
   "cell_type": "code",
   "execution_count": 15,
   "metadata": {},
   "outputs": [],
   "source": [
    "from langchain.agents import tool\n",
    "from langchain.tools.render import format_tool_to_openai_function\n",
    "from langchain.chat_models import ChatOpenAI\n",
    "from datetime import timedelta\n",
    "from langchain.agents import tool, AgentExecutor\n",
    "from langchain.agents.output_parsers import OpenAIFunctionsAgentOutputParser\n",
    "from langchain.prompts import ChatPromptTemplate, MessagesPlaceholder\n",
    "from langchain.agents.format_scratchpad import format_to_openai_function_messages\n",
    "from langchain_core.runnables import RunnablePassthrough\n",
    "from langchain.schema.output_parser import StrOutputParser\n",
    "from langchain.prompts.chat import SystemMessagePromptTemplate\n",
    "import yaml\n",
    "import datetime"
   ]
  },
  {
   "cell_type": "markdown",
   "metadata": {},
   "source": [
    "# Generación de agentes con langchain\n",
    "Primero se definen herramientas con el decorador @tool y se agregan a una lista"
   ]
  },
  {
   "cell_type": "code",
   "execution_count": 3,
   "metadata": {},
   "outputs": [
    {
     "data": {
      "text/plain": [
       "[StructuredTool(name='calcular_fechas', description='calcular_fechas(expresion_tiempo: str) -> list - Returns a list of dates given a date expression', args_schema=<class 'pydantic.main.calcular_fechasSchemaSchema'>, func=<function calcular_fechas at 0x00000211024760C0>)]"
      ]
     },
     "execution_count": 3,
     "metadata": {},
     "output_type": "execute_result"
    }
   ],
   "source": [
    "@tool\n",
    "def calcular_fechas(expresion_tiempo: str) -> list:\n",
    "    \"\"\"Returns a list of dates given a date expression\"\"\"\n",
    "    hoy = datetime.date.today()\n",
    "    fechas = []\n",
    "\n",
    "    if expresion_tiempo == \"últimos 7 días\":\n",
    "        for i in range(7):\n",
    "            fechas.append(hoy - timedelta(days=i))\n",
    "    elif expresion_tiempo == \"durante el último mes\":\n",
    "        for i in range(30):\n",
    "            fechas.append(hoy - timedelta(days=i))\n",
    "\n",
    "    return fechas\n",
    "\n",
    "tools = [calcular_fechas]\n",
    "tools"
   ]
  },
  {
   "cell_type": "markdown",
   "metadata": {},
   "source": [
    "Luego se crea un agente con un template que de las instrucciones generales y se agrega la lista de funciones al llm definido, además se pasa por un parser para que pueda pasarse a openai el parser dependerá del modelo que vaya a usar las funciones hay variois"
   ]
  },
  {
   "cell_type": "code",
   "execution_count": 13,
   "metadata": {},
   "outputs": [],
   "source": [
    "\n",
    "def create_agent(llm, tools):\n",
    "    # Crear un prompt para guiar al modelo\n",
    "    prompt = ChatPromptTemplate.from_messages(\n",
    "        [\n",
    "            (\"system\", \"Eres un asistente que ayuda a calcular rangos de fechas. Tu tarea es devolver una lista de fechas basado en los resultados del agente. no es necesaria ninguna explicación, sólo la lista en formato de python tu respuesta debe ser como este ejemplo con las fechas correspondientes: ['2023-01-01', '2023-02-01']. El resultado del agente es:\"),\n",
    "            (\"user\", \"{input}\"),\n",
    "            MessagesPlaceholder(variable_name=\"agent_scratchpad\"),\n",
    "        ]\n",
    "    )\n",
    "\n",
    "    # Configuración para pasar las herramientas al agente\n",
    "    llm_with_tools = llm.bind(functions=[format_tool_to_openai_function(t) for t in tools])\n",
    "\n",
    "    # Crear el agente utilizando los componentes de LangChain\n",
    "    agent = (\n",
    "        {\n",
    "            \"input\": lambda x: x[\"input\"],\n",
    "            \"agent_scratchpad\": lambda x: format_to_openai_function_messages(x[\"intermediate_steps\"]),\n",
    "        }\n",
    "        | prompt\n",
    "        | llm_with_tools\n",
    "        | OpenAIFunctionsAgentOutputParser()\n",
    "    )\n",
    "\n",
    "    return agent"
   ]
  },
  {
   "cell_type": "markdown",
   "metadata": {},
   "source": [
    "Se ejecuta el agente"
   ]
  },
  {
   "cell_type": "code",
   "execution_count": 14,
   "metadata": {},
   "outputs": [
    {
     "name": "stdout",
     "output_type": "stream",
     "text": [
      "\n",
      "\n",
      "\u001b[1m> Entering new AgentExecutor chain...\u001b[0m\n",
      "\u001b[32;1m\u001b[1;3m\n",
      "Invoking: `calcular_fechas` with `{'expresion_tiempo': 'últimos 7 días'}`\n",
      "\n",
      "\n",
      "\u001b[0m\u001b[36;1m\u001b[1;3m[datetime.date(2023, 12, 20), datetime.date(2023, 12, 19), datetime.date(2023, 12, 18), datetime.date(2023, 12, 17), datetime.date(2023, 12, 16), datetime.date(2023, 12, 15), datetime.date(2023, 12, 14)]\u001b[0m\u001b[32;1m\u001b[1;3m['2023-12-20', '2023-12-19', '2023-12-18', '2023-12-17', '2023-12-16', '2023-12-15', '2023-12-14']\u001b[0m\n",
      "\n",
      "\u001b[1m> Finished chain.\u001b[0m\n"
     ]
    },
    {
     "data": {
      "text/plain": [
       "{'input': 'últimos 7 días',\n",
       " 'output': \"['2023-12-20', '2023-12-19', '2023-12-18', '2023-12-17', '2023-12-16', '2023-12-15', '2023-12-14']\"}"
      ]
     },
     "execution_count": 14,
     "metadata": {},
     "output_type": "execute_result"
    }
   ],
   "source": [
    "llm = ChatOpenAI(model=\"gpt-3.5-turbo\", temperature=0)\n",
    "AgentExecutor(agent=create_agent(llm, tools), tools=tools, verbose=True).invoke({\"input\": 'últimos 7 días'})"
   ]
  },
  {
   "cell_type": "code",
   "execution_count": 16,
   "metadata": {},
   "outputs": [],
   "source": [
    "def get_date_list(prompt):\n",
    "    system_message_prompt = SystemMessagePromptTemplate.from_template(yaml.safe_load(open(\"templates.yaml\"))['DATES'])\n",
    "    template = ChatPromptTemplate.from_messages([system_message_prompt])\n",
    "    model = ChatOpenAI(model=\"gpt-3.5-turbo\")\n",
    "\n",
    "    chain = (\n",
    "        {\"question\": RunnablePassthrough(), \"today\": RunnablePassthrough()} \n",
    "        | template\n",
    "        | model\n",
    "        | StrOutputParser()\n",
    "    )\n",
    "\n",
    "    hoy = datetime.date.today()\n",
    "    result = chain.invoke({\"question\": f\"{prompt}\", \"today\": f\"{hoy}\"})\n",
    "    return result"
   ]
  },
  {
   "cell_type": "code",
   "execution_count": 17,
   "metadata": {},
   "outputs": [
    {
     "data": {
      "text/plain": [
       "\"['2023-11-20', '2023-11-21', '2023-11-22', '2023-11-23', '2023-11-24', '2023-11-25', '2023-11-26', '2023-11-27', '2023-11-28', '2023-11-29', '2023-11-30', '2023-12-01', '2023-12-02', '2023-12-03', '2023-12-04', '2023-12-05', '2023-12-06', '2023-12-07', '2023-12-08', '2023-12-09', '2023-12-10', '2023-12-11', '2023-12-12', '2023-12-13', '2023-12-14', '2023-12-15', '2023-12-16', '2023-12-17', '2023-12-18', '2023-12-19']\""
      ]
     },
     "execution_count": 17,
     "metadata": {},
     "output_type": "execute_result"
    }
   ],
   "source": [
    "get_date_list('dame los comentarios de hace un mes')"
   ]
  },
  {
   "cell_type": "code",
   "execution_count": null,
   "metadata": {},
   "outputs": [],
   "source": []
  }
 ],
 "metadata": {
  "kernelspec": {
   "display_name": "env-aemx",
   "language": "python",
   "name": "python3"
  },
  "language_info": {
   "codemirror_mode": {
    "name": "ipython",
    "version": 3
   },
   "file_extension": ".py",
   "mimetype": "text/x-python",
   "name": "python",
   "nbconvert_exporter": "python",
   "pygments_lexer": "ipython3",
   "version": "3.11.5"
  }
 },
 "nbformat": 4,
 "nbformat_minor": 2
}
